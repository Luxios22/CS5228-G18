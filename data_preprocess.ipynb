{
 "cells": [
  {
   "cell_type": "code",
   "execution_count": 48,
   "metadata": {},
   "outputs": [],
   "source": [
    "import numpy as np\n",
    "import pandas as pd\n",
    "# from tqdm import tqdm, tqdm_notebook\n",
    "from tqdm import trange, tqdm_notebook\n",
    "\n",
    "import seaborn as sns\n",
    "from matplotlib import pyplot as plt\n",
    "from geopy import distance"
   ]
  },
  {
   "attachments": {},
   "cell_type": "markdown",
   "metadata": {},
   "source": [
    "Read train data + preprocess"
   ]
  },
  {
   "cell_type": "code",
   "execution_count": 34,
   "metadata": {},
   "outputs": [
    {
     "name": "stdout",
     "output_type": "stream",
     "text": [
      "There are 431732 data points, each with 17 attributes.\n"
     ]
    }
   ],
   "source": [
    "# read train data + preprocess + save df_cleaned_train\n",
    "df = pd.read_csv('train.csv', sep=',')\n",
    "num_points, num_attributes = df.shape\n",
    "print(\"There are {} data points, each with {} attributes.\". format(num_points, num_attributes))"
   ]
  },
  {
   "cell_type": "code",
   "execution_count": 35,
   "metadata": {},
   "outputs": [
    {
     "name": "stdout",
     "output_type": "stream",
     "text": [
      "<class 'pandas.core.frame.DataFrame'>\n",
      "RangeIndex: 431732 entries, 0 to 431731\n",
      "Data columns (total 17 columns):\n",
      " #   Column               Non-Null Count   Dtype  \n",
      "---  ------               --------------   -----  \n",
      " 0   month                431732 non-null  object \n",
      " 1   town                 431732 non-null  object \n",
      " 2   flat_type            431732 non-null  object \n",
      " 3   block                431732 non-null  object \n",
      " 4   street_name          431732 non-null  object \n",
      " 5   storey_range         431732 non-null  object \n",
      " 6   floor_area_sqm       431732 non-null  float64\n",
      " 7   flat_model           431732 non-null  object \n",
      " 8   eco_category         431732 non-null  object \n",
      " 9   lease_commence_date  431732 non-null  int64  \n",
      " 10  latitude             431732 non-null  float64\n",
      " 11  longitude            431732 non-null  float64\n",
      " 12  elevation            431732 non-null  float64\n",
      " 13  subzone              431732 non-null  object \n",
      " 14  planning_area        431732 non-null  object \n",
      " 15  region               431732 non-null  object \n",
      " 16  resale_price         431732 non-null  float64\n",
      "dtypes: float64(5), int64(1), object(11)\n",
      "memory usage: 56.0+ MB\n",
      "None\n"
     ]
    }
   ],
   "source": [
    "# check if there is missing value for each attribute\n",
    "print(df.info())"
   ]
  },
  {
   "cell_type": "code",
   "execution_count": 36,
   "metadata": {},
   "outputs": [],
   "source": [
    "# remove eco_category, elevation, block, region, and planning_area\n",
    "irrel_redun_columns = ['eco_category', 'elevation', 'block', 'region', 'planning_area']\n",
    "df = df.drop(irrel_redun_columns, axis=1)"
   ]
  },
  {
   "cell_type": "code",
   "execution_count": 37,
   "metadata": {},
   "outputs": [],
   "source": [
    "# clean the ambiguity of column 'flat_type' and 'street_name'\n",
    "df['flat_type'] = df['flat_type'].replace({'1 room': '1-room', '2 room': '2-room', '3 room': '3-room', '4 room': '4-room', '5 room': '5-room'})\n",
    "df['street_name'] = df['street_name'].str.title()"
   ]
  },
  {
   "cell_type": "code",
   "execution_count": 38,
   "metadata": {},
   "outputs": [],
   "source": [
    "# save the train_cleaned.csv\n",
    "df.to_csv('train_cleaned.csv', index = False)"
   ]
  },
  {
   "attachments": {},
   "cell_type": "markdown",
   "metadata": {},
   "source": [
    "Read test data + preprocess"
   ]
  },
  {
   "cell_type": "code",
   "execution_count": 39,
   "metadata": {},
   "outputs": [
    {
     "name": "stdout",
     "output_type": "stream",
     "text": [
      "There are 107934 data points, each with 16 attributes.\n"
     ]
    }
   ],
   "source": [
    "# read train data + preprocess + save df_cleaned_train\n",
    "df = pd.read_csv('test.csv', sep=',')\n",
    "num_points, num_attributes = df.shape\n",
    "print(\"There are {} data points, each with {} attributes.\". format(num_points, num_attributes))"
   ]
  },
  {
   "cell_type": "code",
   "execution_count": 40,
   "metadata": {},
   "outputs": [
    {
     "name": "stdout",
     "output_type": "stream",
     "text": [
      "<class 'pandas.core.frame.DataFrame'>\n",
      "RangeIndex: 107934 entries, 0 to 107933\n",
      "Data columns (total 16 columns):\n",
      " #   Column               Non-Null Count   Dtype  \n",
      "---  ------               --------------   -----  \n",
      " 0   month                107934 non-null  object \n",
      " 1   town                 107934 non-null  object \n",
      " 2   flat_type            107934 non-null  object \n",
      " 3   block                107934 non-null  object \n",
      " 4   street_name          107934 non-null  object \n",
      " 5   storey_range         107934 non-null  object \n",
      " 6   floor_area_sqm       107934 non-null  float64\n",
      " 7   flat_model           107934 non-null  object \n",
      " 8   eco_category         107934 non-null  object \n",
      " 9   lease_commence_date  107934 non-null  int64  \n",
      " 10  latitude             107934 non-null  float64\n",
      " 11  longitude            107934 non-null  float64\n",
      " 12  elevation            107934 non-null  float64\n",
      " 13  subzone              107934 non-null  object \n",
      " 14  planning_area        107934 non-null  object \n",
      " 15  region               107934 non-null  object \n",
      "dtypes: float64(4), int64(1), object(11)\n",
      "memory usage: 13.2+ MB\n",
      "None\n"
     ]
    }
   ],
   "source": [
    "# check if there is missing value for each attribute\n",
    "print(df.info())"
   ]
  },
  {
   "cell_type": "code",
   "execution_count": 41,
   "metadata": {},
   "outputs": [],
   "source": [
    "# remove eco_category, elevation, block, region, and planning_area\n",
    "irrel_redun_columns = ['eco_category', 'elevation', 'block', 'region', 'planning_area']\n",
    "df = df.drop(irrel_redun_columns, axis=1)"
   ]
  },
  {
   "cell_type": "code",
   "execution_count": 42,
   "metadata": {},
   "outputs": [],
   "source": [
    "# clean the ambiguity of column 'flat_type' and 'street_name'\n",
    "df['flat_type'] = df['flat_type'].replace({'1 room': '1-room', '2 room': '2-room', '3 room': '3-room', '4 room': '4-room', '5 room': '5-room'})\n",
    "df['street_name'] = df['street_name'].str.title()"
   ]
  },
  {
   "cell_type": "code",
   "execution_count": 43,
   "metadata": {},
   "outputs": [],
   "source": [
    "# save the test_cleaned.csv\n",
    "df.to_csv('test_cleaned.csv', index = False)"
   ]
  },
  {
   "attachments": {},
   "cell_type": "markdown",
   "metadata": {},
   "source": [
    "Borrow some help from auxiliary data"
   ]
  },
  {
   "cell_type": "code",
   "execution_count": 55,
   "metadata": {},
   "outputs": [],
   "source": [
    "# calculate distance matrix for different auxiliary data\n",
    "def location_attr(df, df_target):\n",
    "    df_lat, df_lng = df['latitude'].to_numpy(), df['longitude'].to_numpy()\n",
    "    df_target_lat, df_target_lng = df_target['lat'].to_numpy(), df_target['lng'].to_numpy()\n",
    "    distances_mat = np.zeros((len(df), len(df_target)))\n",
    "    for i in range(len(df)):\n",
    "        loc_house=(df_lat[i], df_lng[i])\n",
    "        for j in range(len(df_target)):\n",
    "            loc_target=(df_target_lat[j], df_target_lng[j])\n",
    "            res = distance.distance(loc_house, loc_target).km\n",
    "            distances_mat[i][j] = res\n",
    "    df_distance = pd.DataFrame(distances_mat, columns=[df_target['name'].values])\n",
    "    return distances_mat, df_distance"
   ]
  },
  {
   "cell_type": "code",
   "execution_count": 56,
   "metadata": {},
   "outputs": [],
   "source": [
    "# count the number of target feature\n",
    "def create_target_num(distances, lower, upper, name_str):\n",
    "    target_num = np.zeros((distances.shape[0]))\n",
    "    for r in range(distances.shape[0]):\n",
    "        for c in range(distances.shape[1]):\n",
    "            if lower<=distances[r][c]<=upper: target_num[r] += 1\n",
    "    col_name = name_str + str(lower)+'to'+str(upper)\n",
    "    df_target_num = pd.DataFrame(target_num, columns=[col_name])\n",
    "    return df_target_num"
   ]
  },
  {
   "cell_type": "code",
   "execution_count": 57,
   "metadata": {},
   "outputs": [
    {
     "name": "stdout",
     "output_type": "stream",
     "text": [
      "sg-primary-schools\n",
      "sg-secondary-schools\n",
      "sg-train-stations\n",
      "sg-gov-markets-hawker-centres\n",
      "sg-shopping-malls\n",
      "sg-commerical-centres\n"
     ]
    }
   ],
   "source": [
    "# import all auxiliary features automatically\n",
    "# 'pip install geopy' first to convert location\n",
    "aux_files = ['sg-primary-schools','sg-secondary-schools','sg-train-stations','sg-gov-markets-hawker-centres','sg-shopping-malls','sg-commerical-centres']\n",
    "target_names = ['primary_school_','sec_school_','train_','hawker_','shopping_','cc_']\n",
    "df_cleaned = pd.read_csv('data/train_cleaned.csv', sep=',')\n",
    "df_test_cleaned = pd.read_csv('data/test_cleaned.csv', sep=',')\n",
    "for i in range(len(aux_files)):\n",
    "    print(aux_files[i])\n",
    "    df_target = pd.read_csv('data/auxiliary-data/'+aux_files[i]+'.csv', sep=',') \n",
    "    distances_mat, df_distance =location_attr(df_cleaned, df_target)\n",
    "    df_distance.to_csv('dm_'+aux_files[i]+'.csv', index = False) \n",
    "    target_name = target_names[i]\n",
    "    num_tar_01 = create_target_num(distances_mat, 0, 1, target_name)\n",
    "    num_tar_01.to_csv(target_name+'01.csv', index = False)\n",
    "    num_tar_02 = create_target_num(distances_mat, 0, 2, target_name)\n",
    "    num_tar_02.to_csv(target_name+'02.csv', index = False)\n",
    "    num_tar_03 = create_target_num(distances_mat, 0, 3, target_name)\n",
    "    num_tar_03.to_csv(target_name+'03.csv', index = False)\n",
    "    \n",
    "    \n",
    "    distances_mat_test, df_distance_test =location_attr(df_test_cleaned, df_target)\n",
    "    df_distance_test.to_csv('dm_'+aux_files[i]+'_test.csv', index = False) \n",
    "    num_tar_01_test = create_target_num(distances_mat_test, 0, 1, target_name)\n",
    "    num_tar_01_test.to_csv(target_name+'01_test.csv', index = False)\n",
    "    num_tar_02_test = create_target_num(distances_mat_test, 0, 2, target_name)\n",
    "    num_tar_02_test.to_csv(target_name+'02_test.csv', index = False)\n",
    "    num_tar_03_test = create_target_num(distances_mat_test, 0, 3, target_name)\n",
    "    num_tar_03_test.to_csv(target_name+'03_test.csv', index = False)"
   ]
  }
 ],
 "metadata": {
  "kernelspec": {
   "display_name": "cs5228-404",
   "language": "python",
   "name": "python3"
  },
  "language_info": {
   "codemirror_mode": {
    "name": "ipython",
    "version": 3
   },
   "file_extension": ".py",
   "mimetype": "text/x-python",
   "name": "python",
   "nbconvert_exporter": "python",
   "pygments_lexer": "ipython3",
   "version": "3.8.16"
  },
  "orig_nbformat": 4
 },
 "nbformat": 4,
 "nbformat_minor": 2
}
